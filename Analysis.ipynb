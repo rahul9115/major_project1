{
 "cells": [
  {
   "cell_type": "code",
   "execution_count": 13,
   "id": "rotary-hearts",
   "metadata": {},
   "outputs": [],
   "source": [
    "import numpy as np\n",
    "import pandas as pd\n",
    "from datetime import datetime"
   ]
  },
  {
   "cell_type": "code",
   "execution_count": 14,
   "id": "rural-tooth",
   "metadata": {},
   "outputs": [
    {
     "data": {
      "text/plain": [
       "(510526, 46)"
      ]
     },
     "execution_count": 14,
     "metadata": {},
     "output_type": "execute_result"
    }
   ],
   "source": [
    "df=pd.read_csv(\"final_list.csv\")\n",
    "df.shape"
   ]
  },
  {
   "cell_type": "code",
   "execution_count": 8,
   "id": "indian-print",
   "metadata": {},
   "outputs": [],
   "source": [
    "df1=df.loc[df[\"index\"]==1]\n"
   ]
  },
  {
   "cell_type": "code",
   "execution_count": 15,
   "id": "adapted-albany",
   "metadata": {},
   "outputs": [
    {
     "data": {
      "text/html": [
       "<div>\n",
       "<style scoped>\n",
       "    .dataframe tbody tr th:only-of-type {\n",
       "        vertical-align: middle;\n",
       "    }\n",
       "\n",
       "    .dataframe tbody tr th {\n",
       "        vertical-align: top;\n",
       "    }\n",
       "\n",
       "    .dataframe thead th {\n",
       "        text-align: right;\n",
       "    }\n",
       "</style>\n",
       "<table border=\"1\" class=\"dataframe\">\n",
       "  <thead>\n",
       "    <tr style=\"text-align: right;\">\n",
       "      <th></th>\n",
       "      <th>Unnamed: 0</th>\n",
       "      <th>TS_RECV</th>\n",
       "      <th>srl</th>\n",
       "      <th>TS</th>\n",
       "      <th>V1</th>\n",
       "      <th>V2</th>\n",
       "      <th>V3</th>\n",
       "      <th>A1</th>\n",
       "      <th>A2</th>\n",
       "      <th>A3</th>\n",
       "      <th>...</th>\n",
       "      <th>AvgVAr</th>\n",
       "      <th>SumVAr</th>\n",
       "      <th>AvgPF</th>\n",
       "      <th>SumPF</th>\n",
       "      <th>AvgAng</th>\n",
       "      <th>SumAng</th>\n",
       "      <th>F</th>\n",
       "      <th>FwdWh</th>\n",
       "      <th>index</th>\n",
       "      <th>date</th>\n",
       "    </tr>\n",
       "  </thead>\n",
       "  <tbody>\n",
       "    <tr>\n",
       "      <th>510521</th>\n",
       "      <td>4006</td>\n",
       "      <td>1.556649e+09</td>\n",
       "      <td>18095.0</td>\n",
       "      <td>1.556649e+09</td>\n",
       "      <td>234.295074</td>\n",
       "      <td>232.339050</td>\n",
       "      <td>237.314133</td>\n",
       "      <td>0.0</td>\n",
       "      <td>0.265643</td>\n",
       "      <td>0.768150</td>\n",
       "      <td>...</td>\n",
       "      <td>-17.795263</td>\n",
       "      <td>-53.385792</td>\n",
       "      <td>0.549810</td>\n",
       "      <td>2.145061</td>\n",
       "      <td>303.343292</td>\n",
       "      <td>609.959351</td>\n",
       "      <td>50.051071</td>\n",
       "      <td>4227686.0</td>\n",
       "      <td>61</td>\n",
       "      <td>2019-04-30</td>\n",
       "    </tr>\n",
       "    <tr>\n",
       "      <th>510522</th>\n",
       "      <td>4007</td>\n",
       "      <td>1.556649e+09</td>\n",
       "      <td>18096.0</td>\n",
       "      <td>1.556649e+09</td>\n",
       "      <td>234.392395</td>\n",
       "      <td>232.451340</td>\n",
       "      <td>237.244156</td>\n",
       "      <td>0.0</td>\n",
       "      <td>0.275736</td>\n",
       "      <td>0.784577</td>\n",
       "      <td>...</td>\n",
       "      <td>-18.851826</td>\n",
       "      <td>-56.555477</td>\n",
       "      <td>0.536015</td>\n",
       "      <td>2.110034</td>\n",
       "      <td>302.401886</td>\n",
       "      <td>607.486633</td>\n",
       "      <td>50.050472</td>\n",
       "      <td>4227686.0</td>\n",
       "      <td>61</td>\n",
       "      <td>2019-04-30</td>\n",
       "    </tr>\n",
       "    <tr>\n",
       "      <th>510523</th>\n",
       "      <td>4008</td>\n",
       "      <td>1.556649e+09</td>\n",
       "      <td>18097.0</td>\n",
       "      <td>1.556649e+09</td>\n",
       "      <td>233.987778</td>\n",
       "      <td>232.771698</td>\n",
       "      <td>237.267761</td>\n",
       "      <td>0.0</td>\n",
       "      <td>0.266943</td>\n",
       "      <td>0.769692</td>\n",
       "      <td>...</td>\n",
       "      <td>-18.519617</td>\n",
       "      <td>-55.558853</td>\n",
       "      <td>0.541044</td>\n",
       "      <td>2.130534</td>\n",
       "      <td>302.743958</td>\n",
       "      <td>608.961121</td>\n",
       "      <td>50.035496</td>\n",
       "      <td>4227686.0</td>\n",
       "      <td>61</td>\n",
       "      <td>2019-04-30</td>\n",
       "    </tr>\n",
       "    <tr>\n",
       "      <th>510524</th>\n",
       "      <td>4009</td>\n",
       "      <td>1.556649e+09</td>\n",
       "      <td>18098.0</td>\n",
       "      <td>1.556649e+09</td>\n",
       "      <td>234.071030</td>\n",
       "      <td>232.754456</td>\n",
       "      <td>237.303436</td>\n",
       "      <td>0.0</td>\n",
       "      <td>0.266238</td>\n",
       "      <td>0.753697</td>\n",
       "      <td>...</td>\n",
       "      <td>-18.975185</td>\n",
       "      <td>-56.925556</td>\n",
       "      <td>0.534216</td>\n",
       "      <td>2.113892</td>\n",
       "      <td>302.279846</td>\n",
       "      <td>607.791199</td>\n",
       "      <td>50.032536</td>\n",
       "      <td>4227686.0</td>\n",
       "      <td>61</td>\n",
       "      <td>2019-04-30</td>\n",
       "    </tr>\n",
       "    <tr>\n",
       "      <th>510525</th>\n",
       "      <td>4010</td>\n",
       "      <td>1.556649e+09</td>\n",
       "      <td>18099.0</td>\n",
       "      <td>1.556649e+09</td>\n",
       "      <td>234.151001</td>\n",
       "      <td>232.766190</td>\n",
       "      <td>237.097153</td>\n",
       "      <td>0.0</td>\n",
       "      <td>0.268880</td>\n",
       "      <td>0.792968</td>\n",
       "      <td>...</td>\n",
       "      <td>-18.538219</td>\n",
       "      <td>-55.614658</td>\n",
       "      <td>0.539546</td>\n",
       "      <td>2.122111</td>\n",
       "      <td>302.641876</td>\n",
       "      <td>608.341675</td>\n",
       "      <td>50.035950</td>\n",
       "      <td>4227686.0</td>\n",
       "      <td>61</td>\n",
       "      <td>2019-04-30</td>\n",
       "    </tr>\n",
       "  </tbody>\n",
       "</table>\n",
       "<p>5 rows × 46 columns</p>\n",
       "</div>"
      ],
      "text/plain": [
       "        Unnamed: 0       TS_RECV      srl            TS          V1  \\\n",
       "510521        4006  1.556649e+09  18095.0  1.556649e+09  234.295074   \n",
       "510522        4007  1.556649e+09  18096.0  1.556649e+09  234.392395   \n",
       "510523        4008  1.556649e+09  18097.0  1.556649e+09  233.987778   \n",
       "510524        4009  1.556649e+09  18098.0  1.556649e+09  234.071030   \n",
       "510525        4010  1.556649e+09  18099.0  1.556649e+09  234.151001   \n",
       "\n",
       "                V2          V3   A1        A2        A3  ...     AvgVAr  \\\n",
       "510521  232.339050  237.314133  0.0  0.265643  0.768150  ... -17.795263   \n",
       "510522  232.451340  237.244156  0.0  0.275736  0.784577  ... -18.851826   \n",
       "510523  232.771698  237.267761  0.0  0.266943  0.769692  ... -18.519617   \n",
       "510524  232.754456  237.303436  0.0  0.266238  0.753697  ... -18.975185   \n",
       "510525  232.766190  237.097153  0.0  0.268880  0.792968  ... -18.538219   \n",
       "\n",
       "           SumVAr     AvgPF     SumPF      AvgAng      SumAng          F  \\\n",
       "510521 -53.385792  0.549810  2.145061  303.343292  609.959351  50.051071   \n",
       "510522 -56.555477  0.536015  2.110034  302.401886  607.486633  50.050472   \n",
       "510523 -55.558853  0.541044  2.130534  302.743958  608.961121  50.035496   \n",
       "510524 -56.925556  0.534216  2.113892  302.279846  607.791199  50.032536   \n",
       "510525 -55.614658  0.539546  2.122111  302.641876  608.341675  50.035950   \n",
       "\n",
       "            FwdWh  index        date  \n",
       "510521  4227686.0     61  2019-04-30  \n",
       "510522  4227686.0     61  2019-04-30  \n",
       "510523  4227686.0     61  2019-04-30  \n",
       "510524  4227686.0     61  2019-04-30  \n",
       "510525  4227686.0     61  2019-04-30  \n",
       "\n",
       "[5 rows x 46 columns]"
      ]
     },
     "execution_count": 15,
     "metadata": {},
     "output_type": "execute_result"
    }
   ],
   "source": [
    "df.tail()\n"
   ]
  },
  {
   "cell_type": "code",
   "execution_count": 51,
   "id": "outdoor-claim",
   "metadata": {},
   "outputs": [
    {
     "data": {
      "text/plain": [
       "Index(['Unnamed: 0', 'TS_RECV', 'srl', 'TS', 'V1', 'V2', 'V3', 'A1', 'A2',\n",
       "       'A3', 'W1', 'W2', 'W3', 'VA1', 'VA2', 'VA3', 'VAR1', 'VAR2', 'VAR3',\n",
       "       'PF1', 'PF2', 'PF3', 'Ang1', 'Ang2', 'PF3r', 'Ang1r', 'Ang2r', 'Ang3',\n",
       "       'AvgV', 'SumV', 'AvgA', 'SumA', 'AvgW', 'SumW', 'AvgVA', 'SumVA',\n",
       "       'AvgVAr', 'SumVAr', 'AvgPF', 'SumPF', 'AvgAng', 'SumAng', 'F', 'FwdWh',\n",
       "       'index'],\n",
       "      dtype='object')"
      ]
     },
     "execution_count": 51,
     "metadata": {},
     "output_type": "execute_result"
    }
   ],
   "source": [
    "df.columns"
   ]
  },
  {
   "cell_type": "code",
   "execution_count": 56,
   "id": "nervous-opposition",
   "metadata": {},
   "outputs": [
    {
     "data": {
      "text/plain": [
       "Index(['Unnamed: 0', 'TS_RECV', 'srl', 'TS', 'V1', 'V2', 'V3', 'A1', 'A2',\n",
       "       'A3', 'W1', 'W2', 'W3', 'VA1', 'VA2', 'VA3', 'VAR1', 'VAR2', 'VAR3',\n",
       "       'PF1', 'PF2', 'PF3', 'Ang1', 'Ang2', 'PF3r', 'Ang1r', 'Ang2r', 'Ang3',\n",
       "       'AvgV', 'SumV', 'AvgA', 'SumA', 'AvgW', 'SumW', 'AvgVA', 'SumVA',\n",
       "       'AvgVAr', 'SumVAr', 'AvgPF', 'SumPF', 'AvgAng', 'SumAng', 'F', 'FwdWh',\n",
       "       'index'],\n",
       "      dtype='object')"
      ]
     },
     "execution_count": 56,
     "metadata": {},
     "output_type": "execute_result"
    }
   ],
   "source": [
    "df.select_dtypes(include=np.number).columns"
   ]
  },
  {
   "cell_type": "code",
   "execution_count": 5,
   "id": "capital-drinking",
   "metadata": {},
   "outputs": [
    {
     "data": {
      "text/plain": [
       "0        233.319061\n",
       "1        233.310638\n",
       "2        233.382965\n",
       "3        233.153030\n",
       "4        233.346985\n",
       "            ...    \n",
       "15806    239.424728\n",
       "15807    239.512100\n",
       "15808    239.644699\n",
       "15809    239.509079\n",
       "15810    239.566086\n",
       "Name: V1, Length: 15811, dtype: float64"
      ]
     },
     "execution_count": 5,
     "metadata": {},
     "output_type": "execute_result"
    }
   ],
   "source": [
    "df1[\"V1\"]"
   ]
  },
  {
   "cell_type": "code",
   "execution_count": 7,
   "id": "later-carnival",
   "metadata": {},
   "outputs": [
    {
     "name": "stdout",
     "output_type": "stream",
     "text": [
      "['Apartment_B', '2019-03-01']\n"
     ]
    }
   ],
   "source": [
    "str=\"Apartment_B/2019-03-01\"\n",
    "str1=str.split(\"/\")\n",
    "print(str1)"
   ]
  },
  {
   "cell_type": "code",
   "execution_count": 14,
   "id": "atlantic-yeast",
   "metadata": {},
   "outputs": [
    {
     "data": {
      "text/plain": [
       "2019"
      ]
     },
     "execution_count": 14,
     "metadata": {},
     "output_type": "execute_result"
    }
   ],
   "source": [
    "date=datetime.strptime(str1[1],\"%Y-%m-%d\")\n",
    "date.year"
   ]
  },
  {
   "cell_type": "code",
   "execution_count": null,
   "id": "crucial-beginning",
   "metadata": {},
   "outputs": [],
   "source": []
  }
 ],
 "metadata": {
  "kernelspec": {
   "display_name": "Python 3",
   "language": "python",
   "name": "python3"
  },
  "language_info": {
   "codemirror_mode": {
    "name": "ipython",
    "version": 3
   },
   "file_extension": ".py",
   "mimetype": "text/x-python",
   "name": "python",
   "nbconvert_exporter": "python",
   "pygments_lexer": "ipython3",
   "version": "3.8.5"
  }
 },
 "nbformat": 4,
 "nbformat_minor": 5
}
